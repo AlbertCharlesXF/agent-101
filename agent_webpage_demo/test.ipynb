{
 "cells": [
  {
   "cell_type": "markdown",
   "metadata": {},
   "source": [
    "### 注意事项\n",
    "- 需要提前安装好ollama: https://ollama.com/\n",
    "- 在cmd运行：ollama run gemma2，即可安装开源大模型gemma2"
   ]
  },
  {
   "cell_type": "code",
   "execution_count": null,
   "metadata": {
    "vscode": {
     "languageId": "plaintext"
    }
   },
   "outputs": [],
   "source": [
    "from ollama_agent import *\n",
    "\n",
    "question = \"立讯精密股吧情绪怎么样？\"\n",
    "\n",
    "model = \"gemma2\"\n",
    "\n",
    "sentiment_agent = OllamaAgent(model)\n",
    "ans = sentiment_agent.analyze_sentiment(question, page=1)"
   ]
  },
  {
   "cell_type": "code",
   "execution_count": null,
   "metadata": {
    "vscode": {
     "languageId": "plaintext"
    }
   },
   "outputs": [],
   "source": []
  },
  {
   "cell_type": "code",
   "execution_count": null,
   "metadata": {
    "vscode": {
     "languageId": "plaintext"
    }
   },
   "outputs": [],
   "source": []
  }
 ],
 "metadata": {
  "language_info": {
   "name": "python"
  }
 },
 "nbformat": 4,
 "nbformat_minor": 2
}
