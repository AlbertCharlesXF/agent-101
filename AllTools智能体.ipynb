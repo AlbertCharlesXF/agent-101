{
 "cells": [
  {
   "cell_type": "markdown",
   "metadata": {},
   "source": [
    "\n",
    "为了让我们的AI更加全能，我们可以结合之前构建的所有工具和智能体，制作类似GPT-4首页的all tools功能，让AI综合使用多个工具，比如：\n",
    "- 联网搜索（bing搜索）：get_bing_searched_results(keyword='智能体', max_results=5)\n",
    "- code interpreter：运行代码 run_code_v2(code)\n",
    "- PDF阅读: pdf_texts = extract_clean_text_from_pdf(pdf_path, method='pdfminer')\n",
    "\n",
    "此外，我们还可以弥补大模型官网的缺陷，提供更多工具，让AI能精准搜索我们想要的数量的论文，或者爬取特定网页的内容\n",
    "- arxiv \n",
    "- 知网搜索\n",
    "- 股吧情绪分析\n",
    "...\n",
    "\n",
    "想加多少加多少~\n",
    "\n",
    "这个智能体可以最终实现的功能是：\n",
    "根据用户的问题，自动选择最佳工具获取信息，解答问题。\n",
    "- 如果需要做数据分析，则调用code interpreter运行代码；\n",
    "- 如果需要搜索，则调用bing搜索；\n",
    "- 如果需要阅读文献，则调用PDF阅读器\n",
    "...以此类推\n",
    "\n",
    "\n",
    "我们把这个智能体系统分为两个部分，一个是智能体本身，另外一个是工具选择器。\n",
    "任何问题都会先经过工具选择器，让其选择最合适的工具，为智能体提供需要的信息。\n",
    "\n",
    "未来更加进阶的智能体，会基于这个拥有多个工具的基础智能体进行开发，拥有以下功能：\n",
    "- 记住我们的喜好（参考mem0）\n",
    "- 自主上网学习最新知识，保存到知识库，随时调取（参考GraphRAG构建知识图谱）\n",
    "- 自我进化，每次都能输出最高质量的回答\n",
    "- 完成论文中的实证部分...\n",
    "- 头脑风暴获取极具创意的想法\n",
    "- 自主学习并构建全新的工具\n",
    "- 多工具同时调用，汇总信息，给出答案\n",
    "- 需要增加一个复杂问题解决流程，让智能体多次调用工具，综合多个工具的结果，最后给出答案。（使用\"[END]\"标记作为结束）\n",
    "- 增加一个网页界面\n",
    "- 随着聊天变长，随机遗忘不重要的信息。（可设计一个重要程度判断模型）\n",
    "- 文件上传分析（读取文件、分析文件）\n",
    "\n",
    "不断给自己画饼，hhh\n"
   ]
  },
  {
   "cell_type": "code",
   "execution_count": 2,
   "metadata": {},
   "outputs": [
    {
     "name": "stderr",
     "output_type": "stream",
     "text": [
      "[nltk_data] Error loading punkt: <urlopen error [Errno 11004]\n",
      "[nltk_data]     getaddrinfo failed>\n"
     ]
    }
   ],
   "source": [
    "from growing_agent_tools.llm_api import * \n",
    "from growing_agent_tools.json_tool import *\n",
    "from growing_agent_tools.code_interpreter import * \n",
    "from growing_agent_tools.search_bing import *\n",
    "from growing_agent_tools.search_arxiv import *\n",
    "from growing_agent_tools.search_cnki import *\n",
    "from growing_agent_tools.text2jupyter import text_to_jupyter\n",
    "from growing_agent_tools.pdf_reader import * \n",
    "from functools import wraps\n",
    "\n",
    "class AllToolsAgent:\n",
    "    \n",
    "    def __init__(self, agent_name=\"AllTools\"\n",
    "                 , model=\"glm-4-0520\"\n",
    "                 , temperature=0.9):\n",
    "        self.name = agent_name\n",
    "        self.model = model\n",
    "        self.temperature = temperature\n",
    "\n",
    "        # 获取files文件夹下的所有文件\n",
    "        files = os.listdir(\"files\")\n",
    "        self.files = [f for f in files if f.endswith(\".pdf\")]\n",
    "                \n",
    "        # 工具选择系统\n",
    "        self.tool_system_prompt = self.get_prompt(\"prompts/tool_system_prompt.txt\")\n",
    "        self.tool_system_prompt = self.tool_system_prompt.format(files=self.files)\n",
    "        self.tool_conversations = [{\"role\": \"system\", \"content\": self.tool_system_prompt}]\n",
    "        \n",
    "        # 回答系统\n",
    "        self.agent_system_prompt = '''你必须尽可能详细地回答我的问题。'''\n",
    "        self.agent_conversations = [{\"role\": \"system\", \"content\": self.agent_system_prompt}]\n",
    "        \n",
    "        # tool list\n",
    "        self.tool_list = [\n",
    "            \"chat\",\n",
    "            \"get_bing_searched_results\",\n",
    "            \"extract_clean_text_from_pdf\",\n",
    "            \"get_arxiv_papers\",\n",
    "            \"run_code_v2\",\n",
    "            \"get_cnki_searched_results\"\n",
    "        ]\n",
    "\n",
    "        \n",
    "    # 提示词读取\n",
    "    def get_prompt(self, path):\n",
    "        with open(path, 'r', encoding=\"utf-8\") as file:\n",
    "            prompt = file.read()\n",
    "        return prompt\n",
    "    \n",
    "    # 简单模型单次回答\n",
    "    def get_simple_answer(self, question, model, temperature=0.9):\n",
    "        ans = \"\"\n",
    "        for char in get_llm_answer(question, model, temperature):\n",
    "            ans += char\n",
    "            print(char, end='', flush=True)\n",
    "        return ans\n",
    "    \n",
    "    # 普通回答：添加至聊天记录\n",
    "    def get_answer(self, question):\n",
    "        self.tool_conversations.append({\"role\": \"user\", \"content\": question})\n",
    "        ans = \"\"\n",
    "        for char in get_llm_answer_converse(self.tool_conversations, self.model, self.temperature):\n",
    "            ans += char\n",
    "            print(char, end='', flush=True)\n",
    "        self.tool_conversations.append({\"role\": \"assistant\", \"content\": ans})\n",
    "        return ans\n",
    "    \n",
    "    # 依据聊天记录回答\n",
    "    def get_answer_converse(self, conversation):\n",
    "        ans = \"\"\n",
    "        for char in get_llm_answer_converse(conversation, self.model, self.temperature):\n",
    "            ans += char\n",
    "            print(char, end='', flush=True)\n",
    "        conversation.append({\"role\": \"assistant\", \"content\": ans})\n",
    "        return conversation\n",
    "    \n",
    "    def select_tool(self, question, tool_model=\"deepseek-chat\"):\n",
    "        # 选择工具\n",
    "        self.tool_conversations.append({\"role\": \"user\", \"content\": question})\n",
    "        ans = \"\"\n",
    "        for char in get_llm_answer_converse(self.tool_conversations, tool_model, self.temperature):\n",
    "            ans += char\n",
    "            print(char, end='', flush=True)\n",
    "        self.tool_conversations.append({\"role\": \"assistant\", \"content\": ans})\n",
    "        # 将空格替换\n",
    "        tool = get_json(ans)[\"tool\"]\n",
    "        if tool.startswith(\"get_bing_searched_results\"):\n",
    "            tool = tool.replace(\" \", \"\")\n",
    "        print(f\"\\n\\ntool: {tool}\")\n",
    "        return tool\n",
    "    \n",
    "    \n",
    "    # 工作流\n",
    "    def work_flow(self, question, tool_model=\"deepseek-chat\"):\n",
    "        # 选择工具\n",
    "        tool = self.select_tool(question, tool_model)\n",
    "        if tool == \"chat\":\n",
    "            self.agent_conversations.append({\"role\": \"user\", \"content\": question})\n",
    "            self.agent_conversations = self.get_answer_converse(self.agent_conversations)\n",
    "            \n",
    "        # 必应搜索\n",
    "        elif tool.startswith(\"get_bing_searched_results\"):\n",
    "            result, console_output = run_code_v2(tool, globals=globals())\n",
    "            print(f\"搜索结果如下：{result[:1000]}\")\n",
    "            self.agent_conversations.append({\"role\": \"user\", \"content\": f'你帮我搜索到的结果：{result} | {console_output}'})\n",
    "            self.agent_conversations = self.get_answer_converse(self.agent_conversations)\n",
    "            \n",
    "        # arXiv搜索\n",
    "        elif tool.startswith(\"get_arxiv_papers\"):\n",
    "            result, console_output = run_code_v2(tool, globals=globals())\n",
    "            self.agent_conversations.append({\"role\": \"user\", \"content\": f'arXiv的内容：{result} | {console_output}'})\n",
    "            self.agent_conversations = self.get_answer_converse(self.agent_conversations)\n",
    "                        \n",
    "        # PDF阅读\n",
    "        elif tool.startswith(\"extract_clean_text_from_pdf\"):\n",
    "            result, console_output = run_code_v2(tool, globals=globals())\n",
    "            pdf_texts = result.replace(\"\\n\\n\", \" \")\n",
    "            self.agent_conversations.append({\"role\": \"user\", \"content\": f'PDF的内容：{pdf_texts}'})\n",
    "            self.agent_conversations = self.get_answer_converse(self.agent_conversations)\n",
    "        \n",
    "        # code interpreter\n",
    "        elif tool.startswith(\"run_code_v2\"):\n",
    "            # 写代码\n",
    "            self.agent_conversations.append({\"role\": \"user\", \"content\": question})\n",
    "            ans = \"\"\n",
    "            for char in auto_code_running_modify(question, self.model):\n",
    "                print(char, end='', flush=True)\n",
    "                ans += char\n",
    "            self.agent_conversations.append({\"role\": \"assistant\", \"content\": ans})\n",
    "            # 解释代码\n",
    "            self.agent_conversations.append({\"role\": \"user\", \"content\": \"解读代码运行结果\"})\n",
    "            self.agent_conversations = self.get_answer_converse(self.agent_conversations) \n",
    "\n",
    "        \n",
    "# import os \n",
    "# os.environ['HTTP_PROXY'] = 'http://127.0.0.1:7890'\n",
    "# os.environ['HTTPS_PROXY'] = 'http://127.0.0.1:7890'"
   ]
  },
  {
   "cell_type": "code",
   "execution_count": 3,
   "metadata": {},
   "outputs": [
    {
     "name": "stderr",
     "output_type": "stream",
     "text": [
      "2024-07-23 02:00:32,916 - INFO - HTTP Request: POST https://api.deepseek.com/v1/chat/completions \"HTTP/1.1 200 OK\"\n"
     ]
    },
    {
     "name": "stdout",
     "output_type": "stream",
     "text": [
      "```json\n",
      "{\n",
      "    \"tool\": \"run_code_v2()\"\n",
      "}\n",
      "```\n",
      "\n",
      "tool: run_code_v2()\n"
     ]
    },
    {
     "name": "stderr",
     "output_type": "stream",
     "text": [
      "2024-07-23 02:00:35,022 - INFO - HTTP Request: POST https://open.bigmodel.cn/api/paas/v4/chat/completions \"HTTP/1.1 200 OK\"\n"
     ]
    },
    {
     "name": "stdout",
     "output_type": "stream",
     "text": [
      "# 分析问题\n",
      "为了构建两只股票的虚拟数据并画出走势图，我们需要考虑以下问题：\n",
      "\n",
      "1. 生成股票数据的模型：通常股票价格会呈现随机游走的特点，因此我们可以使用几何布朗运动模型或者简单的随机漫步模型来生成股票价格。\n",
      "2. 需要使用的库：我们将需要使用`numpy`来生成随机数据，使用`matplotlib`来绘制走势图。\n",
      "3. 数据的起始点和时间框架：我们需要定义股票价格的起始点以及生成数据的时间框架（例如，一天一个数据点，持续一年）。\n",
      "4. 股票价格的变化范围和波动性：为了使数据更接近真实走势，我们需要定义股票价格的波动性。\n",
      "\n",
      "# 撰写代码的步骤\n",
      "1. 导入必要的库。\n",
      "2. 定义生成股票数据的函数。\n",
      "3. 设置起始价格、时间框架、波动性等参数。\n",
      "4. 生成两只股票的虚拟数据。\n",
      "5. 绘制两只股票的走势图。\n",
      "\n",
      "# 代码实现\n",
      "\n",
      "```python\n",
      "import numpy as np\n",
      "import matplotlib.pyplot as plt\n",
      "\n",
      "# 设置中文字符显示\n",
      "plt.rcParams['font.sans-serif'] = ['SimHei']\n",
      "plt.rcParams['axes.unicode_minus'] = False\n",
      "\n",
      "# 定义生成股票数据的函数\n",
      "def generate_stock_data(start_price, days, volatility):\n",
      "    # 初始化价格数组\n",
      "    prices = np.zeros(days)\n",
      "    prices[0] = start_price\n",
      "    \n",
      "    # 生成随机漫步数据\n",
      "    for t in range(1, days):\n",
      "        shock = np.random.normal(loc=0.0002, scale=volatility) # 每天的收益率服从正态分布\n",
      "        prices[t] = prices[t-1] * (1 + shock)\n",
      "    \n",
      "    return prices\n",
      "\n",
      "# 设置参数\n",
      "start_price_1 = 100  # 股票1的起始价格\n",
      "start_price_2 = 100  # 股票2的起始价格\n",
      "days = 252           # 一年的交易日\n",
      "volatility_1 = 0.005 # 股票1的波动性\n",
      "volatility_2 = 0.01  # 股票2的波动性\n",
      "\n",
      "# 生成股票数据\n",
      "stock_data_1 = generate_stock_data(start_price_1, days, volatility_1)\n",
      "stock_data_2 = generate_stock_data(start_price_2, days, volatility_2)\n",
      "\n",
      "# 绘制走势图\n",
      "plt.figure(figsize=(14, 7))\n",
      "plt.plot(stock_data_1, label='股票1')\n",
      "plt.plot(stock_data_2, label='股票2')\n",
      "plt.title('两只股票虚拟走势图')\n",
      "plt.xlabel('交易日')\n",
      "plt.ylabel('价格')\n",
      "plt.legend()\n",
      "plt.show()\n",
      "```\n",
      "\n",
      "以上代码将生成两只股票的虚拟数据，并且绘制出它们的走势图。我们使用了简单的随机漫步模型，并且为每只股票设置了不同的波动性。这样生成的股票价格走势将非常接近真实的股票市场走势。Successfully saved notebook to code_agent_written_codes/07-23-02-00-stocks.ipynb\n"
     ]
    },
    {
     "data": {
      "image/png": "[encoded data removed]",
      "text/plain": [
       "<Figure size 1400x700 with 1 Axes>"
      ]
     },
     "metadata": {},
     "output_type": "display_data"
    },
    {
     "name": "stdout",
     "output_type": "stream",
     "text": [
      "====================================================================================================\n",
      "代码执行成功\n",
      "====================================================================================================\n",
      "运行结果：\n",
      "代码执行成功\n",
      "Successfully saved notebook to code_agent_written_codes/07-23-02-00-stocks.ipynb\n",
      "代码执行成功,请查看代码文件夹\n"
     ]
    },
    {
     "name": "stderr",
     "output_type": "stream",
     "text": [
      "2024-07-23 02:00:55,282 - INFO - HTTP Request: POST https://open.bigmodel.cn/api/paas/v4/chat/completions \"HTTP/1.1 200 OK\"\n"
     ]
    },
    {
     "name": "stdout",
     "output_type": "stream",
     "text": [
      "代码执行后，将生成以下结果：\n",
      "\n",
      "1. **随机股票价格数据**：利用`generate_stock_data`函数，我们为两只股票生成了模拟价格数据。该数据是基于随机漫步模型，每一天的价格都是基于前一天的价格和随机生成的收益（或亏损）。\n",
      "\n",
      "2. **绘图**：使用了`matplotlib.pyplot`库的功能来绘制股票价格随时间的变化图。\n",
      "\n",
      "以下是对结果的解读：\n",
      "\n",
      "- **走势图**：在绘制的走势图中，横轴代表时间（以交易日为单位），纵轴代表股票价格。因为我们没有提供具体的时间标签，所以横轴只显示交易日的编号。\n",
      "\n",
      "- **股票1和股票2**：两条曲线分别代表两个不同的股票的价格走势。由于我们设置了不同的波动性参数（`volatility_1` 和 `volatility_2`），两只股票的价格波动程度会有所不同。\n",
      "\n",
      "- **波动性**：波动性较高的股票（股票2）在走势图上会显示出更剧烈的价格波动，表现为曲线的锯齿状更明显。波动性较低的股票（股票1）的价格变化则相对平缓。\n",
      "\n",
      "- **起始价格**：两只股票的起始价格都设为100，这意味着它们从同一起点开始。\n",
      "\n",
      "- **整体趋势**：由于我们是随机生成每天的收益，这些股票的长期走势是随机的，没有特定的上升或下降趋势。\n",
      "\n",
      "- **图例**：图例标明了每条曲线代表的股票。\n",
      "\n",
      "通过观察走势图，我们可以了解股票价格随时间的波动情况，分析它们的风险特征。在实际应用中，投资者会根据这些走势图以及相应的统计指标来做出投资决策。\n",
      "\n",
      "请注意，虽然我们尽力使模拟数据接近真实股票走势，但实际股市受到的影响更为复杂，包括宏观经济、公司业绩、市场情绪等多种因素，因此模拟数据并不能完全反映真实的市场行为。"
     ]
    }
   ],
   "source": [
    "# code interpreter\n",
    "question = \"给我用Python构建两只股票的虚拟数据，非常接近真实走势，画出走势图。\"\n",
    "\n",
    "model = \"glm-4-0520\"\n",
    "agent = AllToolsAgent(model=model)\n",
    "# tool = agent.select_tool(question, tool_model=\"deepseek-chat\")\n",
    "agent.work_flow(question)"
   ]
  },
  {
   "cell_type": "code",
   "execution_count": 3,
   "metadata": {},
   "outputs": [
    {
     "data": {
      "text/plain": [
       "[{'role': 'system', 'content': '你必须尽可能详细地回答我的问题。'},\n",
       " {'role': 'user', 'content': '给我用Python构建两只股票的虚拟数据，非常接近真实走势，画出走势图。'}]"
      ]
     },
     "execution_count": 3,
     "metadata": {},
     "output_type": "execute_result"
    }
   ],
   "source": [
    "agent.agent_conversations"
   ]
  },
  {
   "cell_type": "code",
   "execution_count": 6,
   "metadata": {},
   "outputs": [
    {
     "name": "stderr",
     "output_type": "stream",
     "text": [
      "2024-07-23 02:26:38,491 - INFO - HTTP Request: POST https://api.deepseek.com/v1/chat/completions \"HTTP/1.1 200 OK\"\n"
     ]
    },
    {
     "name": "stdout",
     "output_type": "stream",
     "text": [
      "```json\n",
      "{\n",
      "    \"tool\": \"get_bing_searched_results(keyword='大模型微调最新方法', max_results=5)\"\n",
      "}\n",
      "```\n",
      "\n",
      "tool: get_bing_searched_results(keyword='大模型微调最新方法',max_results=5)\n",
      "搜索结果如下：关于大模型微调最新方法的搜索结果如下：\n",
      "Link: https://blog.csdn.net/python123456_/article/details/138955495\n",
      "【大模型微调】一文掌握7种大模型微调的方法 本篇文章深入分析了大型模型微调的基本理念和多样化技术，细致介绍了LoRA、适配器调整(Adapter Tuning)、前缀调整(Prefix Tuning)等多个微调方法。详细讨论了每一种策略的基本原则、主要优点以及适宜应用场景，使得读者可以依据特定的应用要求和计算资源限制，挑选最适合的微调方案。 一、大型模型微调的基础理论大型语言模型(LLM)的训练过程通常分为两大阶段： 阶段一：预训练阶段在这个阶段，大型模型会在大规模的无标签数据集上接受训练，目标是使模型掌握语言的统计特征和基础知识。此期间，模型将掌握词汇的含义、句子的构造规则以及文本的基本信息和上下文。需特别指出，预训练实质上是一种无监督学习过程。完成预训练的模型，亦即基座模型(Base Model)，拥有了普遍适用的预测能力。例如，GLM-130B模型、OpenAI的四个主要模型均属于基座模型。 阶段二：微调阶段预训练完成的模型接下来会在针对性的任务数据集上接受更进一步的训练。这一阶段主要涉及对模型权重的细微调整，使其更好地适配具体任务。最终形成的模型将具备不同的能力，如gpt code系列、gpt text系列、ChatGLM-6B等。 那么，何为大型模型微调？直观上，大型模型微调即是向模型“输入”更多信息，对模型的特定功能进行“优化”，通过输入特定领域的数据集，使模型学习该领域知识，从而优化大模型在特定领域的NLP任务中的表现，如情感分析、实体识别、文本分类、对话生成等。为何微调至关重要？其核心理由是，微调能够“装备”大模型以更精细化的功能，例如整合本地知识库进行搜索、针对特定领域问题构建问答系统等。以VisualGLM为例，作为一个通用多模态模型，当应用于医学影像判别时，就需要输入医学影像领域的数据集以进行微调，以此提升模型在医学影像图像识别方面的表现。这与机器学习模型的超参数优化类似，只有在调整超参数后，模型才能更好地适应当前数据集；同时，大型模型可以经历多轮微调，每次微调都是对模型能力的优化，即我们可以在现有的、已经具备一定能力的大模型基础上进一步进行微调。 二、大型模型的经典网络\n"
     ]
    },
    {
     "name": "stderr",
     "output_type": "stream",
     "text": [
      "2024-07-23 02:26:51,358 - INFO - HTTP Request: POST https://open.bigmodel.cn/api/paas/v4/chat/completions \"HTTP/1.1 200 OK\"\n"
     ]
    },
    {
     "name": "stdout",
     "output_type": "stream",
     "text": [
      "从搜索结果中可以看出，当前存在多种针对大模型的微调方法，每种方法都有其独特的优势和适用场景。以下是一些主要的微调方法：\n",
      "\n",
      "**1. LoRA (Low-Rank Adaptation)**:\n",
      "\n",
      "*   核心思想：假设微调后的增量参数矩阵是低秩的，用两个低维矩阵近似表示。\n",
      "*   优点：参数高效，只需微调少量参数。\n",
      "*   缺点：需要修改模型结构，增加模型参数量。\n",
      "\n",
      "**2. 适配器调整 (Adapter Tuning)**:\n",
      "\n",
      "*   核心思想：在 Transformer Layer 之间插入小型神经网络模块 (适配器) 进行微调。\n",
      "*   优点：参数高效，只需微调适配器参数。\n",
      "*   缺点：需要修改模型结构。\n",
      "\n",
      "**3. 前缀调整 (Prefix Tuning)**:\n",
      "\n",
      "*   核心思想：在输入序列前添加可学习的虚拟标记 (prefix prompt) 进行微调。\n",
      "*   优点：参数高效，只需微调 prefix prompt 参数。\n",
      "*   缺点：prefix prompt 长度有限，影响模型性能。\n",
      "\n",
      "**4. 提示调整 (Prompt Tuning)**:\n",
      "\n",
      "*   核心思想：在输入序列前添加可学习的嵌入向量作为提示进行微调。\n",
      "*   优点：参数高效，只需微调提示向量参数。\n",
      "*   缺点：与前缀调整类似，提示向量长度有限。\n",
      "\n",
      "**5. P-Tuning 和 P-Tuning v2**:\n",
      "\n",
      "*   核心思想：使用 LSTM 生成虚拟标记嵌入进行微调。\n",
      "*   优点：能够处理复杂任务，细粒度控制。\n",
      "*   缺点：计算复杂度更高。\n",
      "\n",
      "**6. QLoRA (Quantized Low-Rank Adaptation)**:\n",
      "\n",
      "*   核心思想：结合 LoRA 和深度量化技术进行微调。\n",
      "*   优点：节省计算资源。\n",
      "*   缺点：量化过程可能引入精度损失。\n",
      "\n",
      "**7. ReFT**:\n",
      "\n",
      "*   核心思想：训练干预模块对模型表征进行干预，达到训练目标。\n",
      "*   优点：节省计算资源，不影响推理时间。\n",
      "*   缺点：目前仅对提示词进行干预。\n",
      "\n",
      "**选择微调策略**：\n",
      "\n",
      "选择合适的微调策略需要考虑以下因素：\n",
      "\n",
      "*   **任务复杂性**: 对于复杂任务，P-Tuning v2 或 LSTM 可能更合适。\n",
      "*   **数据量**: 对于数据量有限的任务，LoRA 或 Adapter Tuning 可能更合适。\n",
      "*   **计算资源**: 对于计算资源有限的情况，选择参数高效的方法。\n",
      "*   **期望性能**: 根据任务需求选择能够达到最佳性能的方法。\n",
      "\n",
      "**微调与模型泛化能力**：\n",
      "\n",
      "微调时需要注意保持模型的泛化能力，避免过拟合。\n",
      "\n",
      "**学习 AI 大模型**：\n",
      "\n",
      "可以通过学习思维导图、书籍、视频教程、实战等方式学习 AI 大模型。\n",
      "\n",
      "**总结**：\n",
      "\n",
      "大模型微调技术不断发展，为针对特定任务和应用场景进行模型优化提供了多种选择。选择合适的微调策略需要综合考虑任务需求、数据量、计算资源和期望性能等因素。"
     ]
    }
   ],
   "source": [
    "# 工具选择测试\n",
    "question = \"大模型微调有哪些最新方法？请联网搜索\"\n",
    "\n",
    "model = \"glm-4-0520\"\n",
    "agent = AllToolsAgent(model=model)\n",
    "agent.work_flow(question)"
   ]
  },
  {
   "cell_type": "code",
   "execution_count": 4,
   "metadata": {},
   "outputs": [
    {
     "name": "stderr",
     "output_type": "stream",
     "text": [
      "2024-07-23 02:25:32,583 - INFO - HTTP Request: POST https://api.deepseek.com/v1/chat/completions \"HTTP/1.1 200 OK\"\n"
     ]
    },
    {
     "name": "stdout",
     "output_type": "stream",
     "text": [
      "```json\n",
      "{\n",
      "    \"tool\": \"chat\"\n",
      "}\n",
      "```\n",
      "\n",
      "大语言模型（Large Language Models，LLMs）是一类基于深度学习技术的自然语言处理模型，它们通常由大量的参数组成，能够理解和生成人类语言。这些模型通过在大规模文本数据上进行训练，学习语言的复杂模式和结构，从而能够执行各种语言相关的任务，如文本生成、翻译、问答、摘要等。大语言模型的代表包括OpenAI的GPT系列、Google的BERT系列等。这些模型在许多领域都有广泛的应用，推动了人工智能技术的发展。\n",
      "\n",
      "tool: chat\n"
     ]
    },
    {
     "name": "stderr",
     "output_type": "stream",
     "text": [
      "2024-07-23 02:25:41,039 - INFO - HTTP Request: POST https://open.bigmodel.cn/api/paas/v4/chat/completions \"HTTP/1.1 200 OK\"\n"
     ]
    },
    {
     "name": "stdout",
     "output_type": "stream",
     "text": [
      "大语言模型（Large Language Models，简称LLM）是一种由包含数百亿以上参数的深度神经网络构建的语言模型。这种模型通常使用自监督学习方法，通过大量无标注的文本数据进行训练。大语言模型具备强大的语言理解能力、记忆和推理能力，能够学习并掌握大规模语料库中的语言模式。\n",
      "\n",
      "大语言模型的核心特点是其规模的庞大，参数量级可以达到数亿甚至数千亿，这使得它们能够在各种自然语言处理任务中展现出优异的性能。这些任务包括但不限于文本生成、机器翻译、问答、文本摘要、情感分析、对话系统等。\n",
      "\n",
      "模型通常基于Transformer架构，这种架构包括编码器（Encoder）和解码器（Decoder），并具有自注意力机制、多头注意力机制、残差连接和前馈神经网络等特点。大语言模型的研究和应用正在不断扩展，以下是它们的一些关键组成部分："
     ]
    }
   ],
   "source": [
    "# 闲聊\n",
    "model = \"glm-4-0520\"\n",
    "agent = AllToolsAgent(model=model)\n",
    "question = \"什么是大语言模型？\"\n",
    "agent.work_flow(question)"
   ]
  },
  {
   "cell_type": "code",
   "execution_count": 5,
   "metadata": {},
   "outputs": [
    {
     "name": "stderr",
     "output_type": "stream",
     "text": [
      "2024-07-23 02:25:46,499 - INFO - HTTP Request: POST https://api.deepseek.com/v1/chat/completions \"HTTP/1.1 200 OK\"\n"
     ]
    },
    {
     "name": "stdout",
     "output_type": "stream",
     "text": [
      "```json\n",
      "{\n",
      "    \"tool\": \"extract_clean_text_from_pdf(pdf_path='files/A Language-Agent Approach to Formal Theorem-Proving.pdf', method='pdfminer')\"\n",
      "}\n",
      "```\n",
      "\n",
      "tool: extract_clean_text_from_pdf(pdf_path='files/A Language-Agent Approach to Formal Theorem-Proving.pdf', method='pdfminer')\n"
     ]
    },
    {
     "name": "stderr",
     "output_type": "stream",
     "text": [
      "2024-07-23 02:25:58,471 - INFO - HTTP Request: POST https://open.bigmodel.cn/api/paas/v4/chat/completions \"HTTP/1.1 200 OK\"\n"
     ]
    },
    {
     "name": "stdout",
     "output_type": "stream",
     "text": [
      "Based on the provided research paper, COPRA (Contextual Prover Agent) is a novel approach to formal theorem proving that utilizes a large language model (LLM) as an agent to interact with a proof environment. Here's a detailed explanation of COPRA's key components and functionality:\n",
      "\n",
      "**COPRA Components**:\n",
      "\n",
      "* **LLM (GPT-4)**: A powerful pre-trained language model used for generating proof tactics and decisions.\n",
      "* **Stateful Backtracking Search**: A search algorithm that explores different proof paths and allows backtracking when encountering errors or dead-ends.\n",
      "* **Retrieval Mechanism**: A method for finding and incorporating relevant lemmas and definitions from external sources.\n",
      "* **Failure Dictionary (Bad)**: A data structure that records actions (tactics) that have failed in previous proof attempts, preventing the agent from repeating mistakes.\n",
      "* **Prompt Serialization Protocol**: A method for converting the current proof state, history, and relevant information into a format that the LLM can understand and process.\n",
      "\n",
      "**COPRA Functionality**:\n",
      "\n",
      "1. **Initialization**: COPRA starts with an initial proof obligation and an empty stack and failure dictionary.\n",
      "2. **Retrieval**: It retrieves any relevant lemmas and definitions from an external database that could help with the proof.\n",
      "3. **Prompt Generation**: It generates a prompt containing the current proof state, history, and any relevant information from the retrieval step.\n",
      "4. **LLM Query**: The prompt is sent to the LLM (GPT-4), which suggests the next proof tactic or action to take.\n",
      "5. **Action Execution**: The suggested tactic is executed in the proof environment (e.g., Lean or Coq). \n",
      "6. **Feedback and Update**: The result of the tactic is used to update the proof state, history, and failure dictionary. If the tactic leads to a dead-end or error, it is recorded in the failure dictionary to avoid repetition.\n",
      "7. **Backtracking**: If progress is not being made or an error occurs, COPRA backtracks to a previous state and explores alternative proof paths.\n",
      "8. **Termination**: The process repeats until a proof is found or a specified number of LLM queries is reached.\n",
      "\n",
      "**COPRA Advantages**:\n",
      "\n",
      "* **In-context Learning**: COPRA leverages the LLM's ability to learn from context and feedback, allowing it to adapt its approach based on the current proof state and history.\n",
      "* **Minimizing Hallucinations**: By tracking past failures and avoiding repeated mistakes, COPRA reduces the likelihood of generating incorrect or irrelevant proof tactics.\n",
      "* **Efficiency**: COPRA's stateful search and backtracking mechanism allow it to find proofs more efficiently compared to traditional LLM-based methods that generate entire proofs in one shot.\n",
      "\n",
      "**Evaluation**:\n",
      "\n",
      "The paper presents results on two benchmarks: miniF2F for Lean and a set of Coq tasks from the CompCert project. COPRA demonstrates significant improvement over existing methods, including:\n",
      "\n",
      "* **Faster Proof Finding**: COPRA finds correct proofs more quickly in terms of both the number of LLM queries and wall-clock time.\n",
      "* **Reduced Hallucinations**: COPRA generates fewer incorrect proof attempts compared to baseline methods.\n",
      "* **Effectiveness of GPT-4**: Using GPT-4 as the underlying LLM is crucial for COPRA's success, outperforming GPT-3.5 in both speed and accuracy.\n",
      "* **Impact of Backtracking**: Backtracking significantly improves COPRA's performance on harder problems by allowing it to explore alternative proof paths.\n",
      "\n",
      "**Future Work**:\n",
      "\n",
      "* **larger inference budgets**: Exploring the impact of allowing more LLM queries on COPRA's learning dynamics and proof-finding capabilities.\n",
      "* **alternative LLMs**: Investigating the effectiveness of other, more affordable LLMs in place of GPT-4.\n",
      "* **RL-based fine-tuning**: Comparing COPRA's in-context learning approach with reinforcement learning techniques for fine-tuning LLM policies."
     ]
    }
   ],
   "source": [
    "# PDF阅读\n",
    "model = \"glm-4-0520\"\n",
    "agent = AllToolsAgent(model=model)\n",
    "question = \"我这个PDF的主要内容是什么\"\n",
    "agent.work_flow(question)"
   ]
  },
  {
   "cell_type": "code",
   "execution_count": 7,
   "metadata": {},
   "outputs": [
    {
     "name": "stderr",
     "output_type": "stream",
     "text": [
      "2024-07-23 02:27:23,198 - INFO - HTTP Request: POST https://api.deepseek.com/v1/chat/completions \"HTTP/1.1 200 OK\"\n"
     ]
    },
    {
     "name": "stdout",
     "output_type": "stream",
     "text": [
      "```json\n",
      "{\n",
      "    \"tool\": \"get_arxiv_papers(keyword='Agent', max_results=5, sort_by='relevance')\"\n",
      "}\n",
      "```\n",
      "\n",
      "tool: get_arxiv_papers(keyword='Agent', max_results=5, sort_by='relevance')\n"
     ]
    },
    {
     "name": "stderr",
     "output_type": "stream",
     "text": [
      "2024-07-23 02:27:31,497 - INFO - HTTP Request: POST https://open.bigmodel.cn/api/paas/v4/chat/completions \"HTTP/1.1 200 OK\"\n"
     ]
    },
    {
     "name": "stdout",
     "output_type": "stream",
     "text": [
      "根据您的要求，以下是关于在arXiv上搜索“Agent”一词得到的论文摘要的详细解读：\n",
      "\n",
      "1. **论文标题**: \n",
      "   The dual role of constructive agents in public goods games: limited alone, amplifying cooperation with destructive agents\n",
      "\n",
      "   **摘要解读**:\n",
      "   这篇论文探讨了在公共物品博弈中建设性代理（constructive agents）的双重角色。建设性代理会对合作者和背叛者都提供额外的好处。研究发现，单独存在建设性代理并不会显著改变博弈的均衡状态。但是，当建设性代理的好处被破坏性代理（destructive agents）造成的损害所抵消时，两者的共存可以增强破坏性代理维持合作的能力。这是通过一个涉及合作者、背叛者、建设性代理和破坏性代理的循环优势共存模式实现的。相反，如果建设性代理的好处超过破坏性代理的损害，建设性代理的存在会消除破坏性代理促进合作的能力。\n",
      "\n",
      "   **发布日期**: 2024-04-02\n",
      "\n",
      "2. **论文标题**:\n",
      "   EvoAgent: Towards Automatic Multi-Agent Generation via Evolutionary Algorithms\n",
      "\n",
      "   **摘要解读**:\n",
      "   这篇论文介绍了EvoAgent，这是一种通过进化算法自动将专家代理扩展到多代理系统的方法，以提高基于大型语言模型（LLM）的代理解决任务的能力。EvoAgent将现有的代理框架视为初始个体，并应用一系列进化操作（如变异、交叉、选择等）来生成具有不同设置的多个代理。该方法可以泛化到任何基于LLM的代理框架，并且可以在不需要额外人为设计的情况下自动扩展。\n",
      "\n",
      "   **发布日期**: 2024-06-20\n",
      "\n",
      "3. **论文标题**:\n",
      "   Cooperative Heterogeneous Deep Reinforcement Learning\n",
      "\n",
      "   **摘要解读**:\n",
      "   在这篇论文中，作者提出了一个协作异构深度强化学习（CHDRL）框架，该框架通过整合不同代理的优点来学习策略。框架将异构代理分为全局代理和局部代理。全局代理是离策略代理，可以利用其他代理的经验；而局部代理可以是策略内代理或基于群体的进化算法代理，能有效探索局部区域。全局代理指导局部代理的学习，从而使局部代理从样本效率高的代理中受益，同时保持自己的优势。\n",
      "\n",
      "   **发布日期**: 2020-11-02\n",
      "\n",
      "4. **论文标题**:\n",
      "   Improving of Robotic Virtual Agent's errors that are accepted by reaction and human's preference\n",
      "\n",
      "   **摘要解读**:\n",
      "   这篇论文研究了人类对拟人化代理的共情，特别是当代理犯错误时。研究通过实验探讨了代理的反应和人类的偏好如何影响人类对代理错误的理解和接受程度。结果显示，代理的反应和人类的偏好不会影响对代理的共情，但会影响代理犯错误的接受度。此外，当代理在任务中犯错误时，对代理的共情会减少。\n",
      "\n",
      "   **发布日期**: 2023-04-01\n",
      "\n",
      "5. **论文标题**:\n",
      "   On Networks with Active and Passive Agents\n",
      "\n",
      "   **摘要解读**:\n",
      "   这篇论文引入了一个主动-被动网络化多代理系统框架，该框架包括受到外部输入影响的代理（主动代理）和没有输入的代理（被动代理）。作者使用李雅普诺夫稳定性分析了这个系统的收敛性。\n",
      "\n",
      "   **发布日期**: 2014-05-07\n",
      "\n",
      "以上是对每篇论文摘要的详细解读，希望这些信息能够满足您的需求。如果您需要更多详细信息或有其他问题，请告知。"
     ]
    }
   ],
   "source": [
    "# arxiv论文搜索\n",
    "model = \"glm-4-0520\"\n",
    "agent = AllToolsAgent(model=model)\n",
    "question = \"帮我搜索5篇与Agent相关的论文\"\n",
    "# tool = agent.select_tool(question, tool_model=\"deepseek-chat\")\n",
    "agent.work_flow(question)"
   ]
  },
  {
   "cell_type": "code",
   "execution_count": 3,
   "metadata": {},
   "outputs": [
    {
     "name": "stdout",
     "output_type": "stream",
     "text": [
      "```json\n",
      "{\n",
      "    \"tool\": \"get_bing_searched_results(keyword='大模型微调最新方法', max_results=5)\"\n",
      "}\n",
      "```\n",
      "\n",
      "tool: get_bing_searched_results(keyword='大模型微调最新方法',max_results=5)\n",
      "搜索结果如下：关于大模型微调最新方法的搜索结果如下：\n",
      "Link: https://blog.csdn.net/python123456_/article/details/138955495\n",
      "【大模型微调】一文掌握7种大模型微调的方法 本篇文章深入分析了大型模型微调的基本理念和多样化技术，细致介绍了LoRA、适配器调整(Adapter Tuning)、前缀调整(Prefix Tuning)等多个微调方法。详细讨论了每一种策略的基本原则、主要优点以及适宜应用场景，使得读者可以依据特定的应用要求和计算资源限制，挑选最适合的微调方案。 一、大型模型微调的基础理论大型语言模型(LLM)的训练过程通常分为两大阶段： 阶段一：预训练阶段在这个阶段，大型模型会在大规模的无标签数据集上接受训练，目标是使模型掌握语言的统计特征和基础知识。此期间，模型将掌握词汇的含义、句子的构造规则以及文本的基本信息和上下文。需特别指出，预训练实质上是一种无监督学习过程。完成预训练的模型，亦即基座模型(Base Model)，拥有了普遍适用的预测能力。例如，GLM-130B模型、OpenAI的四个主要模型均属于基座模型。 阶段二：微调阶段预训练完成的模型接下来会在针对性的任务数据集上接受更进一步的训练。这一阶段主要涉及对模型权重的细微调整，使其更好地适配具体任务。最终形成的模型将具备不同的能力，如gpt code系列、gpt text系列、ChatGLM-6B等。 那么，何为大型模型微调？直观上，大型模型微调即是向模型“输入”更多信息，对模型的特定功能进行“优化”，通过输入特定领域的数据集，使模型学习该领域知识，从而优化大模型在特定领域的NLP任务中的表现，如情感分析、实体识别、文本分类、对话生成等。为何微调至关重要？其核心理由是，微调能够“装备”大模型以更精细化的功能，例如整合本地知识库进行搜索、针对特定领域问题构建问答系统等。以VisualGLM为例，作为一个通用多模态模型，当应用于医学影像判别时，就需要输入医学影像领域的数据集以进行微调，以此提升模型在医学影像图像识别方面的表现。这与机器学习模型的超参数优化类似，只有在调整超参数后，模型才能更好地适应当前数据集；同时，大型模型可以经历多轮微调，每次微调都是对模型能力的优化，即我们可以在现有的、已经具备一定能力的大模型基础上进一步进行微调。 二、大型模型的经典网络\n",
      "根据搜索结果，当前大模型微调领域的主要方法和最新进展包括：\n",
      "\n",
      "**经典方法**：\n",
      "\n",
      "* **全量微调 (Fine-tuning)**: 调整所有层和参数以适应特定任务，需要较多计算资源。\n",
      "* **参数高效微调 (PEFT)**: 通过最小化微调参数数量和计算复杂度来提升预训练模型在新任务上的表现，减轻大型预训练模型的训练负担。\n",
      "\n",
      "**PEFT 主要方法**：\n",
      "\n",
      "* **LoRA (Low-Rank Adaptation)**: 在模型的决定性层次中引入小型、低秩的矩阵来实现模型行为的微调，无需对整个模型结构进行大幅度修改。\n",
      "* **QLoRA (Quantized Low-Rank Adaptation)**: 结合 LoRA 和深度量化技术，进一步减少内存和计算需求。\n",
      "* **适配器调整 (Adapter Tuning)**: 在模型的每个层或选定层之间插入小型神经网络模块 (适配器) 进行微调，无需修改模型结构。\n",
      "* **前缀调整 (Prefix Tuning)**: 在预训练的语言模型输入序列前添加可训练、任务特定的前缀，实现针对不同任务的微调。\n",
      "* **提示调整 (Prompt Tuning)**: 在预训练语言模型输入中引入可学习嵌入向量作为提示，引导模型输出更适合特定任务的响应。\n",
      "* **P-Tuning 和 P-Tuning v2**: 利用 LSTM 或多层嵌入等方式生成虚拟标记嵌入，实现更精细的微调控制。\n",
      "\n",
      "**其他方法**：\n",
      "\n",
      "* **PILL (Pluggable Instruction Language Learning)**: 通过插入可训练的模块或插件来提升模型的任务适应性。\n",
      "* **SSF (Scaling & Shifting Your Features)**: 通过调整模型特征的比例和偏移量来优化模型的性能。\n",
      "\n",
      "**最新进展**：\n",
      "\n",
      "* **C-RLFT (Conditional Reinforcement Learning Fine-Tuning)**: 利用混合质量数据显著提升开源模型性能，相关论文被 ICLR 2024 录用。\n",
      "* **OpenChat**: 在参数规模仅为 7B 的情况下取得与 ChatGPT 相近的性能，可在消费级 GPU 上运行。\n",
      "* **ReFT**: 通过训练干预模块对模型表征进行干预，达到训练目标，而无需训练大量模型参数。\n",
      "\n",
      "**未来趋势**：\n",
      "\n",
      "* **更高效的微调方法**: 探索更有效利用混合质量数据、更低计算资源消耗的微调方法。\n",
      "* **更精细的控制能力**: 提升模型在复杂推理、持续学习、多语言和多模态等方面的能力。\n",
      "* **更广泛的应用场景**: 将微调技术应用于更多领域，如金融、医疗、教育等。\n",
      "\n",
      "**学习资源**：\n",
      "\n",
      "* **CSDN**: 提供了关于大模型微调的详细介绍和多种方法的比较。\n",
      "* **清华大学智能产业研究院 (AIR)**: 发布了关于 C-RLFT 和 OpenChat 的研究论文和项目信息。\n",
      "* **DeepTech 深科技**: 报道了斯坦福大学团队提出的 ReFT 微调方法。\n",
      "* **InfoQ**: 提供了关于大模型微调的中文文章和教程。\n",
      "\n",
      "**总结**:\n",
      "\n",
      "大模型微调领域发展迅速，涌现出多种高效、可扩展的微调方法，为不同任务和应用场景提供了灵活的解决方案。未来，随着技术的不断发展和完善，大模型微调将在人工智能领域发挥越来越重要的作用。"
     ]
    }
   ],
   "source": [
    "model = \"gpt-4o\"\n",
    "model = \"glm-4-0520\"\n",
    "agent = AllToolsAgent(model=model)\n",
    "\n",
    "question = \"拜登退出选举\"\n",
    "question = \"如何做大模型的微调？\"\n",
    "question = \"大模型微调有哪些最新方法？\"\n",
    "question = \"大模型微调有哪些最新方法？请联网搜索\"\n",
    "# question = \"如何做大模型的微调？\"\n",
    "agent.work_flow(question)"
   ]
  }
 ],
 "metadata": {
  "kernelspec": {
   "display_name": "Python 3",
   "language": "python",
   "name": "python3"
  },
  "language_info": {
   "codemirror_mode": {
    "name": "ipython",
    "version": 3
   },
   "file_extension": ".py",
   "mimetype": "text/x-python",
   "name": "python",
   "nbconvert_exporter": "python",
   "pygments_lexer": "ipython3",
   "version": "3.9.7"
  }
 },
 "nbformat": 4,
 "nbformat_minor": 2
}
