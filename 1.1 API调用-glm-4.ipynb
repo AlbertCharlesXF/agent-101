{
 "cells": [
  {
   "cell_type": "code",
   "execution_count": 10,
   "metadata": {},
   "outputs": [
    {
     "name": "stdout",
     "output_type": "stream",
     "text": [
      "Requirement already satisfied: zhipuai in d:\\python39\\lib\\site-packages (2.0.1)Note: you may need to restart the kernel to use updated packages.\n",
      "\n",
      "Requirement already satisfied: httpx>=0.23.0 in d:\\python39\\lib\\site-packages (from zhipuai) (0.25.2)\n",
      "Requirement already satisfied: pydantic>=2.5.2 in d:\\python39\\lib\\site-packages (from zhipuai) (2.6.3)\n",
      "Requirement already satisfied: cachetools>=4.2.2 in d:\\python39\\lib\\site-packages (from zhipuai) (5.2.0)\n",
      "Requirement already satisfied: pyjwt~=2.8.0 in d:\\python39\\lib\\site-packages (from zhipuai) (2.8.0)\n",
      "Requirement already satisfied: anyio in d:\\python39\\lib\\site-packages (from httpx>=0.23.0->zhipuai) (3.6.2)\n",
      "Requirement already satisfied: certifi in c:\\users\\william\\appdata\\roaming\\python\\python39\\site-packages (from httpx>=0.23.0->zhipuai) (2023.5.7)\n",
      "Requirement already satisfied: httpcore==1.* in d:\\python39\\lib\\site-packages (from httpx>=0.23.0->zhipuai) (1.0.4)\n",
      "Requirement already satisfied: idna in c:\\users\\william\\appdata\\roaming\\python\\python39\\site-packages (from httpx>=0.23.0->zhipuai) (3.4)\n",
      "Requirement already satisfied: sniffio in d:\\python39\\lib\\site-packages (from httpx>=0.23.0->zhipuai) (1.3.0)\n",
      "Requirement already satisfied: h11<0.15,>=0.13 in d:\\python39\\lib\\site-packages (from httpcore==1.*->httpx>=0.23.0->zhipuai) (0.14.0)\n",
      "Requirement already satisfied: annotated-types>=0.4.0 in d:\\python39\\lib\\site-packages (from pydantic>=2.5.2->zhipuai) (0.5.0)\n",
      "Requirement already satisfied: pydantic-core==2.16.3 in d:\\python39\\lib\\site-packages (from pydantic>=2.5.2->zhipuai) (2.16.3)\n",
      "Requirement already satisfied: typing-extensions>=4.6.1 in d:\\python39\\lib\\site-packages (from pydantic>=2.5.2->zhipuai) (4.8.0)\n"
     ]
    }
   ],
   "source": [
    "%pip install zhipuai"
   ]
  },
  {
   "cell_type": "markdown",
   "metadata": {},
   "source": [
    "### 文本生成"
   ]
  },
  {
   "cell_type": "code",
   "execution_count": 2,
   "metadata": {},
   "outputs": [],
   "source": [
    "my_key = \"这里填入api_key\""
   ]
  },
  {
   "cell_type": "code",
   "execution_count": 2,
   "metadata": {},
   "outputs": [
    {
     "name": "stdout",
     "output_type": "stream",
     "text": [
      "从前，在一个宁静的小山村里，有一个叫小明的男孩，他对篮球有着无比的热爱。然而，他家境贫寒，买不起篮球，只能每天看着别人在村里的篮球场上尽情挥洒汗水。\n",
      "\n",
      "有一天，小明在回家的路上发现了一只受伤的鸡。他心生怜悯，带回家精心照料。鸡在小明的关爱下，很快康复了。为了报答小明的救命之恩，鸡开始每天下蛋，给小明家带来了一定的经济收入。\n",
      "\n",
      "小明用积攒下来的钱，终于买了一个属于自己的篮球。他每天都会带着鸡去篮球场，一边练习投篮，一边照顾鸡。鸡似乎也感受到了小明的热情，总是在他投篮的时候欢快地叫着。\n",
      "\n",
      "小明练球非常刻苦，但他发现自己的投篮姿势总是不够标准，导致命中率不高。这时，他想起了鸡的下蛋过程。鸡在生蛋时，总是专注而用力，尾巴向下沉，身体向前倾。小明灵机一动，模仿鸡下蛋的姿势，竟然发现投篮命中率有所提高。\n",
      "\n",
      "于是，小明将鸡的下蛋姿势融入到自己的投篮动作中，刻苦练习。经过一段时间的努力，他的篮球技术有了很大的进步，成为了村里篮球打得最好的人。\n",
      "\n",
      "小明的事迹在村里传为佳话，他不仅带领村里的篮球队赢得了比赛，还激励了其他年轻人勇敢追求自己的梦想。那只鸡也成了小明的“吉祥物”，陪伴他度过了许多美好的时光。\n",
      "\n",
      "这个故事告诉我们，只要我们热爱生活，勇于拼搏，就能在生活中找到前进的动力。即使是篮球和鸡这样看似毫不相干的事物，也能相互启发，成就一段励志的传奇。"
     ]
    }
   ],
   "source": [
    "# 根据用户的问题获取AI的回答\n",
    "from zhipuai import ZhipuAI   # type: ignore\n",
    "\n",
    "# 填入在质谱清言官网获取的API密钥\n",
    "\n",
    "# 传入APIKey\n",
    "client = ZhipuAI(api_key=my_key)  \n",
    "response = client.chat.completions.create(\n",
    "    # 调用glm-4模型\n",
    "    model=\"glm-4\",  \n",
    "    messages=[\n",
    "        {\"role\": \"system\", \"content\": \"你是一个乐于解答各种问题的助手，你的任务是为用户提供专业、准确、有见地的建议。\"}, \n",
    "        {\"role\": \"user\", \"content\": \"请将篮球和鸡联系在一起，讲一个励志的故事。\"},\n",
    "    ],\n",
    "    stream=True,  # 实现流式输出\n",
    ")\n",
    "for chunk in response:\n",
    "    char = chunk.choices[0].delta.content\n",
    "    # 打印出glm4返回的回答\n",
    "    print(char, end='')  \n",
    "\n",
    "# 当stream=False时，使用以下代码打印glm4的回答\n",
    "# print(response.choices[0].message.content)"
   ]
  },
  {
   "cell_type": "markdown",
   "metadata": {},
   "source": [
    "### 多轮对话"
   ]
  },
  {
   "cell_type": "code",
   "execution_count": 4,
   "metadata": {},
   "outputs": [
    {
     "name": "stdout",
     "output_type": "stream",
     "text": [
      "篮球与鸡的励志故事\n",
      "\n",
      "在一个遥远的小山村里，有一个热爱篮球的少年，名叫小明。他从小聪明好学，篮球打得非常好，是村里的篮球明星。然而，由于家庭贫困，他不得不在课余时间帮父母喂鸡、割草，补贴家用。\n",
      "\n",
      "这天，小明像往常一样，在鸡舍里喂鸡。他一边喂鸡，一边想着篮球场上的一幕幕。这时，他注意到一只瘦弱的鸡，它总是躲在角落里，不敢和其他鸡争抢食物。小明心生怜悯，决定单独照顾这只鸡。\n",
      "\n",
      "小明给这只瘦弱的鸡取名叫“励志”。他每天都会额外给励志准备一些食物，耐心地教导它如何和其他鸡争抢。在 小明的关爱下，励志变得越来越强壮，逐渐融入了鸡群。\n",
      "\n",
      "有一天，小明在篮球场上遇到了强劲的对手。对方球队的一个球员身高力大，技术出众，让小明感受到了前所未有的压力。比赛进行得非常激烈，小明拼尽全力，仍然无法扭转局势。\n",
      "\n",
      "沮丧的小明回到家中，看着正在鸡舍里悠闲地散步的励志，突然有了灵感。他想：“如果我能像照顾励志一样，不畏艰难，努力提升自己，也许我就能战胜对手。”\n",
      "\n",
      "于是，小明开始模仿励志的精神，每天起早贪黑地练习篮球。他不再畏惧困难，而是把困难当作成长的阶梯。在经过一段时间的刻苦训练后，小明的篮球水平得到了显著提高。\n",
      "\n",
      "终于，在下一场比赛中，小明带领球队成功战胜了对手。他感慨万分，知道是励志给了他前进的动力。从此，小明把励志当作自己的榜样，无论在学习还是篮球场上，都勇往直前，不断取得优异的成绩。\n",
      "\n",
      "这个故事告诉我们，生活中处处都有励志的元素。只要我们用心去发现，用心去感悟，就能在平凡的事物中汲取前进的力量。篮球与鸡，看似毫不相干，却共同谱写了一个关于勇敢、坚持和拼搏的励志故事。"
     ]
    }
   ],
   "source": [
    "# 让AI像网页版一样记住上下文\n",
    "from zhipuai import ZhipuAI # type: ignore\n",
    "\n",
    "mykey = 'ctrl'\n",
    "\n",
    "conversations = [\n",
    "        {\"role\": \"system\", \"content\": \"你是一个乐于解答各种问题的助手，你的任务是为用户提供专业、准确、有见地的建议。\"},\n",
    " \t    {\"role\": \"user\", \"content\": \"给我写一篇篮球与鸡的励志故事。\"}\n",
    "]\n",
    "client = ZhipuAI(api_key=my_key)  # 传入APIKey\n",
    "response = client.chat.completions.create(\n",
    "    model=\"glm-4\",  # 调用glm-4模型\n",
    "    messages=conversations,\n",
    "    stream=True,  # 实现流式输出\n",
    ")\n",
    "ans = \"\"\n",
    "for chunk in response:\n",
    "    char = chunk.choices[0].delta.content\n",
    "    ans += char\n",
    "    print(char, end='')  # 打印出glm4返回的回答"
   ]
  },
  {
   "cell_type": "code",
   "execution_count": 5,
   "metadata": {},
   "outputs": [
    {
     "name": "stdout",
     "output_type": "stream",
     "text": [
      "Here is the translated version of the story in English:\n",
      "\n",
      "In a distant mountain village, there was a young boy named Xiao Ming who loved basketball. He was smart and diligent, and his skills on the basketball court made him a local star. However, due to his family's poverty, he had to help his parents take care of the chickens and cut grass in his free time to make ends meet.\n",
      "\n",
      "One day, as Xiao Ming was feeding the chickens as usual, his mind wandered to the basketball court. He noticed one particular chicken, weak and always hiding in the corner, too afraid to compete with the others for food. Taking pity on it, Xiao Ming decided to take special care of this chicken and named it \"Inspiration.\"\n",
      "\n",
      "Every day, Xiao Ming prepared extra food for Inspiration and taught it how to compete with the other chickens. Under Xiao Ming's care, Inspiration grew stronger and eventually integrated with the rest of the flock.\n",
      "\n",
      "One day, Xiao Ming faced a tough opponent on the basketball court. A player from the opposing team was tall, strong, and skillful, putting immense pressure on Xiao Ming. Despite his best efforts, the match was intense, and he couldn't turn the tide.\n",
      "\n",
      "Feeling discouraged, Xiao Ming returned home and saw Inspiration strolling leisurely in the chicken coop. Suddenly, he had an epiphany. He thought, \"If I can take on challenges like I care for Inspiration, always striving to improve myself, perhaps I can overcome my opponent.\"\n",
      "\n",
      "So, Xiao Ming began to emulate the spirit of Inspiration, practicing basketball early in the morning and late at night. He no longer feared difficulties but saw them as steps towards growth. After a period of rigorous training, Xiao Ming's basketball skills improved significantly.\n",
      "\n",
      "Finally, in the next match, Xiao Ming led his team to victory against the opponent. He was deeply moved, knowing that Inspiration had given him the motivation to move forward. From then on, Xiao Ming regarded Inspiration as his role model, facing all challenges in academics and basketball with courage and perseverance, and achieving excellent results.\n",
      "\n",
      "This story tells us that inspiration can be found in the most ordinary things around us. As long as we look closely and reflect with our hearts, we can draw strength from the everyday to勇敢 (bravely) face and overcome challenges. Basketball and chickens, seemingly unrelated, together composed a motivational story about courage, perseverance, and hard work."
     ]
    }
   ],
   "source": [
    "# 在聊天记录中增加AI的回复\n",
    "conversations.append({\"role\": \"assistant\", \"content\": ans}) # 将AI的回复加入到对话中,role为assistant\n",
    "# 追加问题\n",
    "next_question = \"将上述故事翻译成英文。\"\n",
    "conversations.append({\"role\": \"user\", \"content\": next_question})\n",
    "response = client.chat.completions.create(\n",
    "    model=\"glm-4\",  # 调用glm-4模型\n",
    "    messages=conversations,\n",
    "    stream=True,  # 实现流式输出\n",
    ")\n",
    "# 获取后续回答\n",
    "for chunk in response:\n",
    "    char = chunk.choices[0].delta.content\n",
    "    print(char, end='')  # 打印出glm4返回的回答"
   ]
  },
  {
   "cell_type": "markdown",
   "metadata": {},
   "source": [
    "### 文本转向量"
   ]
  },
  {
   "cell_type": "code",
   "execution_count": 6,
   "metadata": {},
   "outputs": [
    {
     "name": "stdout",
     "output_type": "stream",
     "text": [
      "[-0.0078099067, 0.03177479, -0.064610824, 0.04718313, -0.03114642, -0.027459282, 0.019495297, -0.035254687, 0.015779031, 0.04918324, 0.01084001, 0.020918516, -0.028869096, 0.0033928521, 0.025071613, -0.0034391305, -0.016601104, 0.0220185, -0.0075852727, -0.0066658338, -0.027629405, 0.061972536, -0.018731501, 0.04216532, 0.04278154, -0.015377375, 0.046260342, -0.006743253, 0.012075947, -0.009973663, -0.0049295025, -0.02410171, 0.00603878, 0.048584227, 0.026516065, -0.0039822045, 0.072011195, 0.040036574, -0.018341538, -0.033551615, -0.044262066, -0.008806988, 0.012449643, 0.0049802293, 0.055508237, -0.03236011, 0.031765338, -0.037183832, 0.02269445, 0.017992293, 0.010074296, 0.034294177, -0.0013662054, 0.028767982, 0.012764559, -0.024640478, -0.037666675, 0.03375177, -0.0202599, 0.035604663, 0.0058211624, -0.018663572, -0.058171533, -0.0029288672, 0.045919877, -0.027522702, -0.0032354286, -0.009073103, -0.005711853, 0.010979528, 0.01012323, 0.037794545, -0.06252285, 0.055313926, -0.00856952, -0.018015847, -0.016534628, -0.0031697578, 0.004430319, 0.03540067, 0.028991828, 0.031180533, 0.020417137, -0.059138387, 0.003208134, -0.021483516, -0.029958587, -0.0157809, 0.02066836, 0.049654976, -0.019354744, -0.0067328634, 0.035991885, 0.0396595, -0.011212728, 0.01600257, -0.0044954983, -0.0017020138, 0.07588667, -0.028115023, 0.027891165, -0.007169364, 0.017281825, -0.013788994, -0.066328295, -0.00482301, -0.024018219, 0.025009451, 0.029863387, 0.0052678348, 0.011737481, -0.039349157, -0.005527855, 0.04356401, 0.0037851625, 0.041360408, -0.01624562, 0.0041803946, -0.007732836, -0.019758636, 0.046272725, -0.056883566, 0.019046273, 0.054016847, -0.053484134, -0.019500693, -0.031645074, -0.012249307, -0.0020852892, -0.025411477, 0.05074467, -0.020707628, -0.016819518, -0.006058599, -0.019570535, 0.014849038, -0.028058995, -0.034582052, 0.0067752954, -0.023451868, 0.031312708, 0.0047322884, 0.06255552, -0.02815602, 0.00028337908, -0.0062444103, -0.03474185, -0.014210549, 0.041736174, 0.031072153, -0.0015361557, 0.006367825, 7.899716e-13, -0.0019035577, -0.015002052, -0.0074025043, -0.03652537, 0.015019577, -0.017217482, -0.044922937, -0.024806987, 0.0005374631, -0.010297779, 1.031237e-17, 0.00634333, -0.004439309, 0.04551666, 0.016383998, -0.044612635, -0.016658597, 0.061302405, 0.04186092, -0.032288827, 0.0016044766, -0.0029386661, 0.01127575, -0.005563532, 0.011968289, -0.022924298, -0.00039611512, 0.00020999613, 0.007385261, 0.031239273, 0.027961535, -0.011653176, 0.0056638913, -0.015947625, 0.005172106, 0.021017745, 0.036940746, -0.018874647, 0.014212803, 0.01922829, 0.027819678, 0.07518646, -0.007777889, -0.04162302, 0.008718994, -0.036900714, 0.04551318, -0.003396109, 0.0053294683, -0.08151857, 0.0027913323, -0.0021946598, -0.0035920374, 0.010361786, 0.030727604, 0.013295467, -0.023977272, 0.032557666, -0.016264448, 0.01403602, 0.01827083, 0.022246834, 0.030129556, 0.003129008, 0.01740213, 0.016388321, 0.0051970063, 0.006663042, -0.025212197, 0.030806303, 0.0057536247, -0.0054721776, -0.04161895, -0.035247907, 0.0091730775, 0.0038316848, 0.020438714, 0.059917293, 0.012067923, -0.039080977, -0.031331874, 0.034079667, -0.04309369, -0.027309338, -0.01563065, -0.03280754, 0.006351772, 0.014159526, -0.047044866, 0.044745643, -0.015011883, 0.065510005, -0.030899074, -0.0019365092, -0.020016499, -0.06891384, 0.043582864, 0.007640906, -0.017511219, 0.010261902, -0.05490129, -0.049671166, -0.0353591, -0.008802456, -0.028143715, 0.05120661, -0.023776842, -0.023548475, -0.0044552605, -0.01017121, 0.032456715, -0.005973048, 0.050560422, 0.0061849393, -0.004918598, -0.04479246, -0.07005777, -0.07697307, 0.04272323, 0.027804988, 0.024060227, 0.045773856, -0.037884414, -0.037316322, -0.05202615, 0.03158624, -0.0109031275, 0.03515841, 0.03561311, -0.01720324, -0.0136108985, -0.035369966, -0.018335685, 0.11601126, 0.008006285, -0.0031681529, 0.023296306, -0.024139192, -0.047829907, 0.008250191, 0.010944248, -0.040081035, 0.008258231, -0.047773995, -0.022324963, -0.009334096, 0.014453758, 0.06459937, 0.025725445, 0.015359509, 0.008262157, 0.0082783345, 0.042126343, -0.02523152, 0.06435695, 0.0035670502, 0.031873893, -0.05184197, -0.013087518, -0.014301434, -0.021663593, -0.0382547, -0.044189595, -0.0239771, -0.02785207, 0.037755933, 0.0016586127, 0.0055350987, -0.001307642, 0.003866278, -0.052545857, 0.05092131, -0.02220543, -0.027861303, -0.00054454536, -0.045707546, 0.037042588, 0.026231214, -0.030213498, 0.018747551, 0.010981276, -0.022044769, 0.012184661, -0.004503596, -0.008746384, -0.039332036, -0.03237028, 0.002527202, 0.023743369, 0.016658174, 0.0035567102, 0.01588251, 0.019478964, 0.0031449446, -0.0619966, 0.011201788, 0.027220575, -0.0048966776, -0.014272725, 0.024080036, 0.0027562946, -0.00969777, 0.03559578, -0.018412137, 0.056485947, -0.03784801, -0.036821965, -0.046429656, -0.0008901376, -0.034909118, 0.06584272, 0.03504735, -0.011511068, 0.013057018, -0.014880059, 0.06151399, -0.01652634, 0.05106823, 0.016687207, 0.014804828, -0.025311962, -0.0073661353, -0.00488038, 0.11826201, 0.0034178237, 0.0359568, -0.013922151, 0.051880147, -0.024707915, -0.032110896, 0.0030453803, -0.010839867, -0.032379933, 0.02331758, 0.018161954, -0.025166223, -0.035349693, -0.025574213, -0.012696716, -0.07415223, 0.030009372, -0.020697528, -0.046371453, 0.0006508829, 0.00026603512, -0.050230384, 0.043266684, -0.033163376, 0.0072861, -0.057953525, -0.054385487, -0.045215867, -0.004649028, -0.0054066014, 0.0046538995, 0.048602175, -0.0013058612, 0.048476815, 0.007543959, -0.005122078, -0.029438626, 0.012881308, 0.01679137, 0.0013397341, -0.04707193, -0.0043711443, 0.005290024, -0.02907366, 0.03601323, -0.005125553, 0.024918418, 0.006514097, 0.0015068091, -0.02012675, -0.03380395, -0.019128107, -0.05552217, -0.017875616, 0.026897639, -0.030538063, -0.024934443, 0.016216123, -0.0012815534, -0.079189524, 0.002138554, 0.016396804, 0.030928176, -0.056324504, 0.0040283245, 0.022817416, -0.02668945, 0.005527377, 0.0009980722, -0.0069677583, 0.0051811473, -0.0566117, -0.03546805, 0.0019074244, -0.021486571, 0.03896589, -0.02568122, -0.0075194277, -0.014686376, -0.006850743, -0.008498045, -0.019866273, -0.018864114, 0.034360204, -0.03279988, -0.009922764, 0.013073462, 0.0014179712, 0.03183203, 0.02705112, 0.010086322, 0.04252026, 0.03128871, -0.0043717977, -0.017973337, 0.051342893, -0.050455675, -0.011036371, 0.042027626, -0.046940736, 0.060819935, -0.005727925, -0.026275953, 0.020009676, -0.0025828835, -0.021143248, 0.044943925, 0.021737833, -0.03592282, -0.043471538, -0.010447342, 0.025722524, 0.026366437, 0.0010813059, 0.011230761, -0.009656153, -0.044352364, -0.057084214, -0.033970043, -0.0521571, -0.04445653, -0.008530453, 0.028330399, 0.038091265, 0.025762632, 0.029293543, 0.01659897, -0.045381162, -0.045700446, -8.5649095e-05, -0.025114005, 0.020363683, -0.032864254, 0.015948303, -0.026059799, -0.0069923294, 0.075263195, -0.03490001, -0.005201603, -0.008443586, -0.022741219, -0.04151582, -0.0045488677, 0.08082597, -0.004205647, -0.07698861, 0.023590235, -0.03905508, 0.06787973, -0.015763907, 0.02342949, -0.0052293716, -0.0037657814, -0.06603785, -0.015871678, 0.013382813, 0.021486305, -0.040813137, 0.025821077, 0.04845388, 0.020946486, -0.03858397, -0.08176885, 0.0011429823, 0.026487248, 0.046052612, -0.0187972, 0.01964304, -0.029784862, -0.0105901705, -0.033435203, -0.05441688, 0.049460214, 0.035300355, 0.00626528, 0.03616407, 0.049693003, -0.023774708, 0.026228243, 0.00031661373, 0.03272353, -0.056397814, 0.019371778, 0.015150326, 0.0058205966, 0.014883138, 0.015526306, 0.02267979, -0.054159004, -0.007580377, -0.025467584, 0.021820962, -0.012917908, 0.019502807, 0.008619627, -0.042381547, -0.012760371, 0.03023696, -0.024354352, -0.02527007, -0.015249035, 0.013478862, 0.01112835, -0.0059702513, 0.0031186352, -0.0638701, 0.0037177145, 0.038273484, 0.063788265, -0.069413185, 0.019985324, -0.037873656, 0.037099343, -0.056152456, 0.002043705, 0.01653353, 0.030023552, 0.035517, 0.024271294, 0.009549744, 0.0017852598, 0.08587595, 0.02033668, -0.0131220445, 0.013455967, 0.03477747, -0.0011435513, -0.009576046, -0.043506667, -0.020406878, 0.017623669, 0.0026598566, -0.034177512, -0.008111313, 0.046481267, -0.03380349, -0.063767195, -0.03556316, 0.008253649, 0.045513462, 0.0144544365, 0.04007288, -0.02311125, 0.009162414, 0.042971995, -0.022275306, -0.00889809, -0.02446781, -0.0075843744, 0.020461254, -0.04567803, -0.020024702, 0.00079000974, 0.014569686, -0.013922222, -0.014207255, -0.0007378565, 0.026079824, -0.0058617406, 0.0057535768, -0.0043292176, 0.006717569, -0.027249912, -0.027681012, 0.009986864, -0.058606073, 0.007137717, -0.022878552, 0.019865695, 0.047055382, -0.015671222, 0.034918565, -0.07079239, 0.016217366, -0.00205519, 0.0014674074, 0.038338624, 0.041058578, -0.002916236, 0.03712883, -0.0062954966, -0.021349305, -0.015073179, -0.042628936, 0.06926967, -0.029733324, -0.041065373, -0.0076751118, -0.029971514, -0.0032451444, -0.029068006, 0.023732224, -0.01603908, 0.03819304, 0.025829798, 0.008942519, 0.035027254, 0.0033594049, 0.027674368, 0.006777547, -0.007846382, -0.03963984, 0.014320643, 0.024134465, -0.021041656, -0.037887797, 0.019414607, 0.0004002448, -0.02587276, 0.010316457, 0.0138813015, -0.03466197, 0.05259113, 0.03244245, 0.00025405, 0.028235612, -0.0072300574, 0.04350305, -0.010896735, -0.004369377, 0.0013016096, 0.04388465, -0.0008896383, -0.011147023, -0.009339175, -0.0010539873, 0.0049629384, -0.0024189872, 0.0028185984, 0.052934755, 0.0010832206, 0.036682792, -0.018534772, 0.05247502, 0.030272597, 0.04715029, 0.03712067, -0.0037902743, -0.04185186, 0.015423562, -0.03057607, -0.0031521388, -0.015077393, -0.016686441, 0.07928738, -0.03141401, 0.033125024, -0.015945246, -0.02797071, 0.012283222, 0.0557137, 0.012655947, 2.402113e-05, 0.05496222, 0.021295616, 0.056842744, -0.020936774, -0.043116685, -0.012015291, -0.018105607, -0.039139397, -0.0019103073, -0.019738348, -0.007118758, -0.034322176, 0.018693872, 0.026596539, 0.02794949, 0.01912211, 0.020541199, 0.013587107, -0.023549601, -0.037612814, 0.053555828, 0.027473379, -0.04042089, -0.010278543, 0.025768243, 0.0032538914, -0.028517878, -0.008879949, 0.035955615, 0.048667252, 0.000118232296, -0.014838542, -0.030790828, -0.02026189, -0.013290937, 0.0028085818, 0.010884759, 0.10577314, -0.062261842, -0.013372131, 0.031405706, 0.022776434, 0.019507216, -0.0074318284, 0.047637362, 0.025780192, -0.028072573, -0.03756973, -0.015980052, 0.05707742, -0.0141202165, 0.0086675435, 0.0023281227, 0.022971509, -0.0043502674, -0.0066428306, 0.031610657, 0.021923553, -0.026178196, 0.020666797, -0.00593617, 0.014242773, -0.02057925, 0.022293923, -0.012989232, 0.0022190725, -0.005728856, 0.0042578275, 0.0072952337, -0.024467811, 2.7179958e-09, -0.00901502, -0.0076401727, -0.022555966, -0.012737875, 0.013288867, -0.035642434, 0.019132895, 0.0126236845, 0.008519827, 0.0040752497, 0.028917767, -0.058878373, 0.01069132, 0.08719749, 0.013257317, -0.029179309, 0.045691825, -0.0036178313, 0.026841428, -0.011053981, 0.01032877, -0.026799127, -0.022119876, -0.010981697, 0.015194085, 0.05153767, 0.035747197, -0.0210585, 0.028932491, -0.0052624145, -0.012935842, 0.027459057, 0.00075003493, 0.04695113, 0.0006135221, -0.0018034845, -0.055165395, -0.043893356, -0.024374515, 0.023930095, -0.017556582, 0.020498803, -0.0034236603, 0.013625382, -0.055087734, -0.024314241, 0.066072024, -0.011011371, -0.008462488, -0.033663236, 0.009461488, -0.03297186, -0.025205472, -0.031649016, -0.06690139, 0.011781076, -0.043503664, 0.049869597, 0.04662293, -0.064086206, -0.027729359, -0.033425998, 0.10451192, 0.008066633, -0.022127891, 0.040134788, 0.026399594, 0.06200973, -0.011648019, 0.022451408, -0.026768629, 0.031381033, 0.0016538347, 0.037641734, 0.040397562, -0.02964367, -0.0050873007, 0.005971148, -0.01894882, -0.013668712, 0.030700196, -0.009842783, -0.03470043, -0.009898687, -0.05738603, -0.061779268, -0.057812374, -0.022549128, -0.017807906, -0.027531657, 0.001708577, -0.017659355, -0.006675622, 0.048716784, -0.014917811, -0.024853848, 0.013074643, -0.023616971, 0.04221884, 0.043591082, 0.022882445, 0.08196021, -4.7533792e-27, -0.011808874, -0.0022010703, 0.0068006623, 0.027769849, 0.02400086, 0.029956246, 0.015557636, 0.03323015, -0.010696402, -0.0065391036, -0.023044644, 0.010427091, 0.010388214, -0.018451171, 0.029143827, -0.043792892, -0.014672818, -0.022289032, -0.0054429676, 0.019114885, -0.003582872, -0.0011986666, -0.024429753, 0.031987622, 0.0038402749, -0.03195196, -0.013902143, 0.030643223, -0.015548233, -0.038141754, 0.02949814, -0.0056211143, 0.0569021, 0.024774717, -0.04497904, -0.03853982, -0.00019859035, 0.058446307, 0.041810934, -0.023245653, -0.002331687, 0.036119513, 0.021001015, -0.029724585, 0.0010817135, -0.02709442, 0.099788055, -0.031103311, -0.02339903, -0.029113254, -0.003549906, 0.0047991616, -0.04421646, 0.0048303423, -0.008044741, -0.03491967, 0.0008971663, 0.009679196, 0.015957266, 0.018667515, -0.06329451, 0.028818257, 0.057998624, 0.028790018, 0.02176739, -0.028961511, -0.023431458, 0.015110914, -0.06342225, -0.008259133, -0.008054651, 0.023749249, 0.03949617, -0.0022551513, -0.0023462158, 0.017064406, -0.009802433, -0.13722315, -0.015457077, 0.051961817, -0.029988468, -0.009967084, -0.01810857, -0.033753764, 0.010686165, -0.013645212, -0.0059973174, 0.03490359, 0.020302366, -0.015407173, 0.03856243, -0.011067688, -0.03716615, 0.03311517, -0.0007137021, 0.010022047, -0.012712755, 0.0008909576, -0.024529641, 0.01859669, -3.4866772e-24, -0.014398119, 0.035278387, -0.0031535497, 0.007953506, 0.01566179, -0.031221343, -0.010943049, -0.04269554, -0.003959698, 0.0017339229, 0.049717497, 0.0076950174, 0.014260372, 0.01052262, 0.013774865, 0.037983857, -0.006006453, 0.02678937, -0.009626049]\n"
     ]
    }
   ],
   "source": [
    "# 将文本转换成向量，方便计算两段话之间的相似度，进行文档搜索\n",
    "from zhipuai import ZhipuAI # type: ignore\n",
    "\n",
    "\n",
    "client = ZhipuAI(api_key=mykey) \n",
    "response = client.embeddings.create(\n",
    "    model=\"embedding-2\", # 调用embedding-2模型\n",
    "    input=\"这是一个测试文本。\",\n",
    ")\n",
    "\n",
    "print(response.data[0].embedding) # 输出了一个长度为1024的数组，结构类型为列表"
   ]
  },
  {
   "cell_type": "markdown",
   "metadata": {},
   "source": [
    "### 图像识别"
   ]
  },
  {
   "cell_type": "code",
   "execution_count": 9,
   "metadata": {},
   "outputs": [
    {
     "name": "stdout",
     "output_type": "stream",
     "text": [
      "这张图片是单一的白色平面，没有任何明显的细节或图案。整个画面呈现出一致的白色色调，看起来就像是一个没有纹理和装饰的纯色背景。这种类型的图像可能用于图形设计中作为背景颜色，或者用于颜色填充。"
     ]
    }
   ],
   "source": [
    "from zhipuai import ZhipuAI  # type: ignore\n",
    "\n",
    "client = ZhipuAI(api_key=my_key) \n",
    "response = client.chat.completions.create(\n",
    "    model=\"glm-4v\",  # 调用glm-4v模型\n",
    "    messages=[\n",
    "       {\n",
    "        \"role\": \"user\",\n",
    "        \"content\": [\n",
    "          {\n",
    "            \"type\": \"text\",\n",
    "            \"text\": \"完整提取图片中的所有内容，以markdown格式发给我\"\n",
    "          },\n",
    "          {\n",
    "            \"type\": \"image_url\",\n",
    "            \"image_url\": \"temp_image.png\"\n",
    "            }\n",
    "          \n",
    "        ]\n",
    "      }\n",
    "    ],\n",
    "    stream = True,\n",
    ")\n",
    "\n",
    "for chunk in response:\n",
    "    print(chunk.choices[0].delta.content, end='')  "
   ]
  },
  {
   "cell_type": "markdown",
   "metadata": {},
   "source": [
    "### 调用函数"
   ]
  },
  {
   "cell_type": "code",
   "execution_count": 9,
   "metadata": {},
   "outputs": [
    {
     "name": "stdout",
     "output_type": "stream",
     "text": [
      "CompletionMessage(content=None, role='assistant', tool_calls=[CompletionMessageToolCall(id='call_8699686330981801428', function=Function(arguments='{\"date\":\"2024-01-01\",\"departure\":\"北京南站\",\"destination\":\"上海\"}', name='query_train_info'), type='function', index=0)])\n"
     ]
    }
   ],
   "source": [
    "from zhipuai import ZhipuAI\n",
    "\n",
    "client = ZhipuAI(api_key=my_key) # 请填写您自己的APIKey\n",
    "\n",
    "def query_train_info(departure, destination, date):\n",
    "    if departure == \"北京南站\" and destination == \"上海\" and date == \"2024-01-01\":\n",
    "        train_info = \"G1234次列车，始发站：北京南站，终点站：上海虹桥站，出发时间：2024年1月1日 08:00，到达时间：2024年1月1日 14:00。\"\n",
    "    else:\n",
    "        train_info = \"未查询到符合条件的车次信息。\"\n",
    "    return train_info\n",
    "\n",
    "tools = [\n",
    "    {\n",
    "        \"type\": \"function\",\n",
    "        \"function\": {\n",
    "            \"name\": \"query_train_info\",\n",
    "            \"description\": \"根据用户提供的信息，查询对应的车次\",\n",
    "            \"parameters\": {\n",
    "                \"type\": \"object\",\n",
    "                \"properties\": {\n",
    "                    \"departure\": {\n",
    "                        \"type\": \"string\",\n",
    "                        \"description\": \"出发城市或车站\",\n",
    "                    },\n",
    "                    \"destination\": {\n",
    "                        \"type\": \"string\",\n",
    "                        \"description\": \"目的地城市或车站\",\n",
    "                    },\n",
    "                    \"date\": {\n",
    "                        \"type\": \"string\",\n",
    "                        \"description\": \"要查询的车次日期\",\n",
    "                    },\n",
    "                },\n",
    "                \"required\": [\"departure\", \"destination\", \"date\"],\n",
    "            },\n",
    "        }\n",
    "    }\n",
    "]\n",
    "messages = [\n",
    "    {\n",
    "        \"role\": \"user\",\n",
    "        \"content\": \"你能帮我查询2024年1月1日从北京南站到上海的火车票吗？\"\n",
    "    }\n",
    "]\n",
    "response = client.chat.completions.create(\n",
    "    model=\"glm-4\", # 填写需要调用的模型名称\n",
    "    messages=messages,\n",
    "    tools=tools,\n",
    "    tool_choice=\"auto\",\n",
    ")\n",
    "print(response.choices[0].message)"
   ]
  },
  {
   "cell_type": "code",
   "execution_count": 7,
   "metadata": {},
   "outputs": [
    {
     "name": "stdout",
     "output_type": "stream",
     "text": [
      "CompletionMessage(content=None, role='assistant', tool_calls=[CompletionMessageToolCall(id='call_8699687189975362339', function=Function(arguments='{\"date\":\"2024-01-01\",\"departure\":\"北京南站\",\"destination\":\"上海\"}', name='query_train_info'), type='function', index=0)])\n",
      "根据您的请求，我已经查询到了2024年1月1日从北京南站到上海的火车票信息。根据查询结果，G1234次列车将从北京南站出发，到达上海虹桥站，出发时间为2024年1月1日08:00，预计到达时间为2024年1月1日14:00。\n"
     ]
    }
   ],
   "source": [
    "import json \n",
    "\n",
    "# 处理函数调用结果，根据模型返回参数，调用对应的函数。\n",
    "def parse_function_call(model_response, messages):\n",
    "    # 调用函数返回结果后构造tool message，再次调用模型，将函数结果输入模型\n",
    "    # 模型会将函数调用结果以自然语言格式返回给用户。\n",
    "    if model_response.choices[0].message.tool_calls:\n",
    "        tool_call = model_response.choices[0].message.tool_calls[0]\n",
    "        args = tool_call.function.arguments\n",
    "        function_result = {}\n",
    "        if tool_call.function.name == \"query_train_info\":\n",
    "            function_result = query_train_info(**json.loads(args))\n",
    "        messages.append({\n",
    "            \"role\": \"tool\",\n",
    "            \"content\": f\"{json.dumps(function_result)}\",\n",
    "            \"tool_call_id\":tool_call.id\n",
    "        })\n",
    "        response = client.chat.completions.create(\n",
    "            model=\"glm-4\",  # 调用glm-4模型\n",
    "            messages=messages,\n",
    "            tools=tools,\n",
    "        )\n",
    "        print(response.choices[0].message.content)\n",
    "        messages.append(response.choices[0].message.model_dump())\n",
    "\n",
    "\n",
    "client = ZhipuAI(api_key=my_key)\n",
    "\n",
    "# 清空对话\n",
    "messages = []\n",
    "\n",
    "# 用户问题\n",
    "question = \"你能帮我查询2024年1月1日从北京南站到上海的火车票吗？\"\n",
    "messages.append({\"role\": \"system\", \"content\": \"不要假设或猜测传入函数的参数值。如果用户的描述不明确，请要求用户提供必要信息\"})\n",
    "messages.append({\"role\": \"user\", \"content\": question})\n",
    "\n",
    "response = client.chat.completions.create(\n",
    "    model=\"glm-4\",  \n",
    "    messages=messages,\n",
    "    tools=tools,\n",
    ")\n",
    "print(response.choices[0].message) # 打印出模型解析出的函数调用信息\n",
    "messages.append()\n",
    "\n",
    "parse_function_call(response,messages) # 打印出模型调用函数后得到的回答"
   ]
  },
  {
   "cell_type": "code",
   "execution_count": 10,
   "metadata": {},
   "outputs": [
    {
     "data": {
      "text/plain": [
       "{'content': None,\n",
       " 'role': 'assistant',\n",
       " 'tool_calls': [{'id': 'call_8699686330981801428',\n",
       "   'function': {'arguments': '{\"date\":\"2024-01-01\",\"departure\":\"北京南站\",\"destination\":\"上海\"}',\n",
       "    'name': 'query_train_info'},\n",
       "   'type': 'function',\n",
       "   'index': 0}]}"
      ]
     },
     "execution_count": 10,
     "metadata": {},
     "output_type": "execute_result"
    }
   ],
   "source": [
    "response.choices[0].message.model_dump()"
   ]
  },
  {
   "cell_type": "code",
   "execution_count": 3,
   "metadata": {},
   "outputs": [
    {
     "name": "stdout",
     "output_type": "stream",
     "text": [
      "CompletionMessage(content=None, role='assistant', tool_calls=[CompletionMessageToolCall(id='call_8699686434060986680', function=Function(arguments='{\"date\":\"2022-01-23\",\"departure\":\"北京\",\"destination\":\"广州\"}', name='get_flight_number'), type='function', index=0)])\n",
      "根据您的请求，我已经查询到1月23日，从北京到广州的航班号为8321。\n"
     ]
    }
   ],
   "source": [
    "# 让AI自行判断是否需要用到我们自己构建的工具函数\n",
    "from zhipuai import ZhipuAI # type: ignore\n",
    "import json \n",
    " \n",
    "# 自定义函数1：获取航班号\n",
    "def get_flight_number(date:str , departure:str , destination:str):\n",
    "    flight_number = {\n",
    "        \"北京\":{\n",
    "            \"上海\" : \"1234\",\n",
    "            \"广州\" : \"8321\",\n",
    "        },\n",
    "        \"上海\":{\n",
    "            \"北京\" : \"1233\",\n",
    "            \"广州\" : \"8123\",\n",
    "        }\n",
    "    }\n",
    "    return { \"flight_number\":flight_number[departure][destination] }\n",
    "\n",
    "# 自定义函数2：获取票价\n",
    "def get_ticket_price(date:str , flight_number:str):\n",
    "    return {\"ticket_price\": \"1000\"}\n",
    "\n",
    "# glm4调用函数时的工具，需要定义函数的名称name、作用description以及参数parameters\n",
    "# 默认情况下由glm4决定是否调用tools中的函数\n",
    "tools = [\n",
    "    {\n",
    "        \"type\": \"function\",\n",
    "        \"function\": {\n",
    "            \"name\": \"get_flight_number\",\n",
    "            \"description\": \"根据始发地、目的地和日期，查询对应日期的航班号\",\n",
    "            \"parameters\": {\n",
    "                \"type\": \"object\",\n",
    "                \"properties\": {\n",
    "                    \"departure\": {\n",
    "                        \"description\": \"出发地\",\n",
    "                        \"type\": \"string\"\n",
    "                    },\n",
    "                    \"destination\": {\n",
    "                        \"description\": \"目的地\",\n",
    "                        \"type\": \"string\"\n",
    "                    },\n",
    "                    \"date\": {\n",
    "                        \"description\": \"日期\",\n",
    "                        \"type\": \"string\",\n",
    "                    }\n",
    "                },\n",
    "                \"required\": [ \"departure\", \"destination\", \"date\" ]  # 函数必须包括的参数\n",
    "            },\n",
    "        }\n",
    "    },\n",
    "    {\n",
    "        \"type\": \"function\",\n",
    "        \"function\": {\n",
    "            \"name\": \"get_ticket_price\",\n",
    "            \"description\": \"查询某航班在某日的票价\",\n",
    "            \"parameters\": {\n",
    "                \"type\": \"object\",\n",
    "                \"properties\": {\n",
    "                    \"flight_number\": {\n",
    "                        \"description\": \"航班号\",\n",
    "                        \"type\": \"string\"\n",
    "                    },\n",
    "                    \"date\": {\n",
    "                        \"description\": \"日期\",\n",
    "                        \"type\": \"string\",\n",
    "                    }\n",
    "                },\n",
    "                \"required\": [ \"flight_number\", \"date\"]\n",
    "            },\n",
    "        }\n",
    "    },\n",
    "]\n",
    "\n",
    "# 处理函数调用结果，根据模型返回参数，调用对应的函数。\n",
    "def parse_function_call(model_response,messages):\n",
    "    # 调用函数返回结果后构造tool message，再次调用模型，将函数结果输入模型\n",
    "    # 模型会将函数调用结果以自然语言格式返回给用户。\n",
    "    if model_response.choices[0].message.tool_calls:\n",
    "        tool_call = model_response.choices[0].message.tool_calls[0]\n",
    "        args = tool_call.function.arguments\n",
    "        function_result = {}\n",
    "        if tool_call.function.name == \"get_flight_number\":\n",
    "            function_result = get_flight_number(**json.loads(args))\n",
    "        if tool_call.function.name == \"get_ticket_price\":\n",
    "            function_result = get_ticket_price(**json.loads(args))\n",
    "        messages.append({\n",
    "            \"role\": \"tool\",\n",
    "            \"content\": f\"{json.dumps(function_result)}\",\n",
    "            \"tool_call_id\":tool_call.id\n",
    "        })\n",
    "        response = client.chat.completions.create(\n",
    "            model=\"glm-4\",  # 调用glm-4模型\n",
    "            messages=messages,\n",
    "            tools=tools,\n",
    "        )\n",
    "        print(response.choices[0].message.content)\n",
    "        messages.append(response.choices[0].message.model_dump())\n",
    "\n",
    "client = ZhipuAI(api_key=my_key)\n",
    "\n",
    "# 清空对话\n",
    "messages = []\n",
    "\n",
    "# 用户问题\n",
    "question = \"帮我查询1月23日，北京到广州的航班\"\n",
    "messages.append({\n",
    "    \"role\": \"system\", \n",
    "    \"content\": \"不要假设或猜测传入函数的参数值。如果用户的描述不明确，请要求用户提供必要信息\"\n",
    "    })\n",
    "messages.append({\n",
    "    \"role\": \"user\", \n",
    "    \"content\": question\n",
    "    })\n",
    "\n",
    "response = client.chat.completions.create(\n",
    "    model=\"glm-4\",  \n",
    "    messages=messages,\n",
    "    tools=tools,\n",
    ")\n",
    "print(response.choices[0].message) # 打印出模型解析出的函数调用信息\n",
    "messages.append(response.choices[0].message.model_dump())\n",
    "\n",
    "parse_function_call(response,messages) # 打印出模型调用函数后得到的回答"
   ]
  },
  {
   "cell_type": "code",
   "execution_count": null,
   "metadata": {},
   "outputs": [],
   "source": []
  },
  {
   "cell_type": "code",
   "execution_count": null,
   "metadata": {},
   "outputs": [],
   "source": []
  }
 ],
 "metadata": {
  "kernelspec": {
   "display_name": "myConda",
   "language": "python",
   "name": "python3"
  },
  "language_info": {
   "codemirror_mode": {
    "name": "ipython",
    "version": 3
   },
   "file_extension": ".py",
   "mimetype": "text/x-python",
   "name": "python",
   "nbconvert_exporter": "python",
   "pygments_lexer": "ipython3",
   "version": "3.9.7"
  }
 },
 "nbformat": 4,
 "nbformat_minor": 2
}
